{
 "cells": [
  {
   "cell_type": "markdown",
   "id": "392374b3",
   "metadata": {},
   "source": [
    "# <center> Model Selection by Nested CV "
   ]
  },
  {
   "cell_type": "markdown",
   "id": "e57df96d",
   "metadata": {},
   "source": [
    "<center> <img src=\"https://github.com/brandon-park/spam_mail_prediction/blob/main/selection-process-for-hiring-rh-2018.jpg?raw=true\" width=\"70%\"/>"
   ]
  },
  {
   "cell_type": "markdown",
   "id": "7c6d0091",
   "metadata": {},
   "source": [
    "## TOC:\n",
    "\n",
    "1. [Introduction](#Introduction)\n",
    "2. [Import data](#Import-data)\n",
    "3. [Feature selection using decision tree](#Feature-selection)\n",
    "4. [Define model and set of hyperparameter](#Define-model)\n",
    "5. [Run nested CV with normalization](#nested-CV)\n",
    "6. [Draw ROC curve](#ROC)\n",
    "7. [Select final model and optimize hyperparameter](#final-model)\n",
    "8. [Conclusion/Limitation](#Conclusion)"
   ]
  },
  {
   "attachments": {},
   "cell_type": "markdown",
   "id": "bb80c0c7",
   "metadata": {},
   "source": [
    "## Introduction <a name=\"Introduction\"></a>\n",
    "\n",
    "### How to choose which 'model' is the best model for the certain data?\n",
    "\n",
    "We all know that k-fold and cross validation is one of the golden rule to test the model's performance. **But there is one critical issue with this method. Traditional CV only use 1 set of hyperparameter to compare each k-fold. However, the model performance in a certain fold could be different with the different hyperparameter.**\n",
    "\n",
    "To overcome the bias from using the same hyperparameter, we can use nested CV. Unlike traditional CV, nested CV again split the training fold(Outer loop) into traning-valid(Inner loop) to find the best hyperparameter for the outer fold. By doing so, we can resolve the bias and compare the models more precisely.\n",
    "\n",
    "Besides, we will also draw ROC curve and compute AUC score as an alternative model selection method.\n",
    "\n",
    "Finally, we identify the best model to optimize the hyperparameter.\n",
    "\n",
    "\n",
    "### Reason for choosing 'precision' as a metric\n",
    "\n",
    "The dataset is about the spam email classification. As stated in in the documentation, **'false positive'** is much critical in the business perspective when filterting spam. For example, it is strongly undesirable and need to be avoided if the actual ham email that contains important information is classified into spam. \n",
    "\n",
    "So in the second analysis, we aim to build a model that minimize the 'false positive' and high precision_positive at the same time. \n",
    "\n",
    "\n",
    "\n",
    "_disclaimer:\n",
    "    The goal of this notebook is to showcase the model selection process. Hyper parameters used in each model are not optimized and hence the best model / performance are not literally 'the best' for this toy dataset._\n"
   ]
  },
  {
   "cell_type": "code",
   "execution_count": null,
   "id": "e7f2dc1e",
   "metadata": {},
   "outputs": [],
   "source": []
  },
  {
   "cell_type": "markdown",
   "id": "a9cf37c4",
   "metadata": {},
   "source": [
    "## Import data <a name=\"Import-data\"></a>"
   ]
  },
  {
   "cell_type": "code",
   "execution_count": 1,
   "id": "862c78e3",
   "metadata": {},
   "outputs": [],
   "source": [
    "### Import packages\n",
    "import numpy as np\n",
    "import pandas as pd\n",
    "import matplotlib.pyplot as plt\n",
    "%matplotlib inline\n",
    "from statistics import mean\n",
    "\n",
    "from sklearn import model_selection\n",
    "from sklearn.metrics import (confusion_matrix, roc_curve,roc_auc_score, ConfusionMatrixDisplay)\n",
    "from sklearn.preprocessing import StandardScaler\n",
    "\n",
    "from sklearn.linear_model import LogisticRegression\n",
    "from sklearn.tree import DecisionTreeClassifier\n",
    "from sklearn.neighbors import KNeighborsClassifier\n",
    "from sklearn.svm import SVC\n",
    "from lightgbm import LGBMClassifier\n",
    "\n",
    "from sklearn.pipeline import Pipeline\n",
    "\n",
    "from scikitplot.metrics import plot_roc, plot_lift_curve\n",
    "from tqdm import tqdm\n",
    "\n",
    "import tensorflow as tf \n",
    "import tensorflow.keras.backend as K\n",
    "from tensorflow.keras.models import Sequential\n",
    "from tensorflow.keras.datasets import mnist\n",
    "from tensorflow.keras.layers import Dense\n",
    "from tensorflow.keras.wrappers.scikit_learn import KerasClassifier\n",
    "from tensorflow.keras.optimizers import Adam"
   ]
  },
  {
   "cell_type": "code",
   "execution_count": 2,
   "id": "657d5163",
   "metadata": {},
   "outputs": [],
   "source": [
    "# Conduct train-test split and scaling\n",
    "# It is important to use the same fitted scaler to both train and test.\n",
    "\n",
    "def split_and_scale(X, y, test_size = 0.2, random_state = 77):\n",
    "    \n",
    "    X_train, X_test, y_train, y_test = model_selection.train_test_split(X, y, test_size=0.2, random_state=77)\n",
    "\n",
    "    scaler_fit = StandardScaler().fit(X_train)\n",
    "\n",
    "    X_train_scaled = scaler_fit.transform(X_train)\n",
    "    X_test_scaled = scaler_fit.transform(X_test)\n",
    "\n",
    "    print(\"Train data\\'s shape:\", X_train_scaled.shape)\n",
    "    print(\"Valid data\\'s shape:\", X_test_scaled.shape)\n",
    "    \n",
    "    return X_train_scaled, X_test_scaled, y_train, y_test\n",
    "\n",
    "\n",
    "\n",
    "# Nested Cross Validation with Randomized search CV\n",
    "# Models should be pre-defined in dictionary\n",
    "\n",
    "\n",
    "def nested_cv(models, scoring:str, X, y, num_trials, inner_splits, outer_splits, random_state = 77):\n",
    "\n",
    "    total_scores = dict()\n",
    "\n",
    "    print(\"=\"*50)\n",
    "    for name, model, param in models:\n",
    "\n",
    "        scores = []\n",
    "\n",
    "        for i in tqdm(range(num_trials)):  # Try N times and take the mean score\n",
    "\n",
    "            inner_cv = model_selection.KFold(n_splits=inner_splits, shuffle=True, random_state=random_state)\n",
    "            outer_cv = model_selection.KFold(n_splits=outer_splits, shuffle=True, random_state=random_state)\n",
    "\n",
    "            # Each inner_cv will scale and make prediction\n",
    "            clf = model_selection.RandomizedSearchCV(estimator= Pipeline([('scaler', StandardScaler()),\n",
    "                                                                     (name, model)])\n",
    "                                               ,param_distributions=param, refit= True, scoring = scoring, cv=inner_cv)\n",
    "\n",
    "            mean_score = model_selection.cross_val_score(clf, X=X, y=y, cv=outer_cv).mean()\n",
    "            scores.append(mean_score)\n",
    "        \n",
    "        total_scores[name] = mean(scores)  \n",
    "        print(\"Average score of {}: {}.\".format(name, round(mean(scores),3)))\n",
    "\n",
    "    print(\"=\"*50)\n",
    "    \n",
    "    return pd.DataFrame.from_dict(total_scores, orient='index', columns=['NestedCV'])\n",
    "\n",
    "    \n",
    "# Define the NN model\n",
    "\n",
    "def create_model():\n",
    "    # create model\n",
    "    model = Sequential()\n",
    "    model.add(Dense(10, input_dim=5, activation='relu'))\n",
    "    model.add(Dense(10, activation='relu'))\n",
    "    model.add(Dense(1, activation='sigmoid'))\n",
    "    # Compile model\n",
    "    model.compile(loss='binary_crossentropy', optimizer='adam', metrics='Precision')\n",
    "    \n",
    "    return model\n",
    "\n",
    "\n",
    "# Plot multiple ROC curve and compute AUC \n",
    "\n",
    "def roc_auc(models, scoring:str, X_selected, y_selected):\n",
    "    \n",
    "    X_selected_train_scaled, X_selected_test_scaled, y_selected_train, y_selected_test = split_and_scale(X_selected,y_selected)\n",
    "    \n",
    "    plt.figure(figsize=(10,5))\n",
    "    total_scores = dict()\n",
    "\n",
    "    for name, model, param in models:\n",
    "\n",
    "        clf = model_selection.RandomizedSearchCV(estimator=Pipeline([(name, model)]), \n",
    "                                           param_distributions=param, scoring = scoring, cv=2)\n",
    "        clf.fit(X_selected_train_scaled, y_selected_train)\n",
    "        ypred = clf.predict(X_selected_test_scaled) \n",
    "        ypred_proba = clf.predict_proba(X_selected_test_scaled)[:,1]\n",
    "        fpr, tpr, thresholds = roc_curve(y_selected_test, ypred_proba)\n",
    "        # Calculate Area under the curve to display on the plot\n",
    "        auc = roc_auc_score(y_selected_test,ypred)\n",
    "        # Now, plot the computed values\n",
    "        plt.plot(fpr, tpr, label= name)\n",
    "        print(\"AUC score of {} is {:.3f}\".format(name,auc))\n",
    "        total_scores[name] = auc\n",
    "        \n",
    "    return pd.DataFrame.from_dict(total_scores, orient='index', columns=['AUC'])\n",
    "        \n"
   ]
  },
  {
   "cell_type": "code",
   "execution_count": 3,
   "id": "bb405407",
   "metadata": {
    "scrolled": true
   },
   "outputs": [
    {
     "data": {
      "text/html": [
       "<div>\n",
       "<style scoped>\n",
       "    .dataframe tbody tr th:only-of-type {\n",
       "        vertical-align: middle;\n",
       "    }\n",
       "\n",
       "    .dataframe tbody tr th {\n",
       "        vertical-align: top;\n",
       "    }\n",
       "\n",
       "    .dataframe thead th {\n",
       "        text-align: right;\n",
       "    }\n",
       "</style>\n",
       "<table border=\"1\" class=\"dataframe\">\n",
       "  <thead>\n",
       "    <tr style=\"text-align: right;\">\n",
       "      <th></th>\n",
       "      <th>0</th>\n",
       "      <th>1</th>\n",
       "      <th>2</th>\n",
       "      <th>3</th>\n",
       "      <th>4</th>\n",
       "      <th>5</th>\n",
       "      <th>6</th>\n",
       "      <th>7</th>\n",
       "      <th>8</th>\n",
       "      <th>9</th>\n",
       "      <th>...</th>\n",
       "      <th>48</th>\n",
       "      <th>49</th>\n",
       "      <th>50</th>\n",
       "      <th>51</th>\n",
       "      <th>52</th>\n",
       "      <th>53</th>\n",
       "      <th>54</th>\n",
       "      <th>55</th>\n",
       "      <th>56</th>\n",
       "      <th>57</th>\n",
       "    </tr>\n",
       "  </thead>\n",
       "  <tbody>\n",
       "    <tr>\n",
       "      <th>0</th>\n",
       "      <td>0.00</td>\n",
       "      <td>0.64</td>\n",
       "      <td>0.64</td>\n",
       "      <td>0.0</td>\n",
       "      <td>0.32</td>\n",
       "      <td>0.00</td>\n",
       "      <td>0.00</td>\n",
       "      <td>0.00</td>\n",
       "      <td>0.00</td>\n",
       "      <td>0.00</td>\n",
       "      <td>...</td>\n",
       "      <td>0.00</td>\n",
       "      <td>0.000</td>\n",
       "      <td>0.0</td>\n",
       "      <td>0.778</td>\n",
       "      <td>0.000</td>\n",
       "      <td>0.000</td>\n",
       "      <td>3.756</td>\n",
       "      <td>61</td>\n",
       "      <td>278</td>\n",
       "      <td>1</td>\n",
       "    </tr>\n",
       "    <tr>\n",
       "      <th>1</th>\n",
       "      <td>0.21</td>\n",
       "      <td>0.28</td>\n",
       "      <td>0.50</td>\n",
       "      <td>0.0</td>\n",
       "      <td>0.14</td>\n",
       "      <td>0.28</td>\n",
       "      <td>0.21</td>\n",
       "      <td>0.07</td>\n",
       "      <td>0.00</td>\n",
       "      <td>0.94</td>\n",
       "      <td>...</td>\n",
       "      <td>0.00</td>\n",
       "      <td>0.132</td>\n",
       "      <td>0.0</td>\n",
       "      <td>0.372</td>\n",
       "      <td>0.180</td>\n",
       "      <td>0.048</td>\n",
       "      <td>5.114</td>\n",
       "      <td>101</td>\n",
       "      <td>1028</td>\n",
       "      <td>1</td>\n",
       "    </tr>\n",
       "    <tr>\n",
       "      <th>2</th>\n",
       "      <td>0.06</td>\n",
       "      <td>0.00</td>\n",
       "      <td>0.71</td>\n",
       "      <td>0.0</td>\n",
       "      <td>1.23</td>\n",
       "      <td>0.19</td>\n",
       "      <td>0.19</td>\n",
       "      <td>0.12</td>\n",
       "      <td>0.64</td>\n",
       "      <td>0.25</td>\n",
       "      <td>...</td>\n",
       "      <td>0.01</td>\n",
       "      <td>0.143</td>\n",
       "      <td>0.0</td>\n",
       "      <td>0.276</td>\n",
       "      <td>0.184</td>\n",
       "      <td>0.010</td>\n",
       "      <td>9.821</td>\n",
       "      <td>485</td>\n",
       "      <td>2259</td>\n",
       "      <td>1</td>\n",
       "    </tr>\n",
       "    <tr>\n",
       "      <th>3</th>\n",
       "      <td>0.00</td>\n",
       "      <td>0.00</td>\n",
       "      <td>0.00</td>\n",
       "      <td>0.0</td>\n",
       "      <td>0.63</td>\n",
       "      <td>0.00</td>\n",
       "      <td>0.31</td>\n",
       "      <td>0.63</td>\n",
       "      <td>0.31</td>\n",
       "      <td>0.63</td>\n",
       "      <td>...</td>\n",
       "      <td>0.00</td>\n",
       "      <td>0.137</td>\n",
       "      <td>0.0</td>\n",
       "      <td>0.137</td>\n",
       "      <td>0.000</td>\n",
       "      <td>0.000</td>\n",
       "      <td>3.537</td>\n",
       "      <td>40</td>\n",
       "      <td>191</td>\n",
       "      <td>1</td>\n",
       "    </tr>\n",
       "    <tr>\n",
       "      <th>4</th>\n",
       "      <td>0.00</td>\n",
       "      <td>0.00</td>\n",
       "      <td>0.00</td>\n",
       "      <td>0.0</td>\n",
       "      <td>0.63</td>\n",
       "      <td>0.00</td>\n",
       "      <td>0.31</td>\n",
       "      <td>0.63</td>\n",
       "      <td>0.31</td>\n",
       "      <td>0.63</td>\n",
       "      <td>...</td>\n",
       "      <td>0.00</td>\n",
       "      <td>0.135</td>\n",
       "      <td>0.0</td>\n",
       "      <td>0.135</td>\n",
       "      <td>0.000</td>\n",
       "      <td>0.000</td>\n",
       "      <td>3.537</td>\n",
       "      <td>40</td>\n",
       "      <td>191</td>\n",
       "      <td>1</td>\n",
       "    </tr>\n",
       "  </tbody>\n",
       "</table>\n",
       "<p>5 rows × 58 columns</p>\n",
       "</div>"
      ],
      "text/plain": [
       "     0     1     2    3     4     5     6     7     8     9   ...    48  \\\n",
       "0  0.00  0.64  0.64  0.0  0.32  0.00  0.00  0.00  0.00  0.00  ...  0.00   \n",
       "1  0.21  0.28  0.50  0.0  0.14  0.28  0.21  0.07  0.00  0.94  ...  0.00   \n",
       "2  0.06  0.00  0.71  0.0  1.23  0.19  0.19  0.12  0.64  0.25  ...  0.01   \n",
       "3  0.00  0.00  0.00  0.0  0.63  0.00  0.31  0.63  0.31  0.63  ...  0.00   \n",
       "4  0.00  0.00  0.00  0.0  0.63  0.00  0.31  0.63  0.31  0.63  ...  0.00   \n",
       "\n",
       "      49   50     51     52     53     54   55    56  57  \n",
       "0  0.000  0.0  0.778  0.000  0.000  3.756   61   278   1  \n",
       "1  0.132  0.0  0.372  0.180  0.048  5.114  101  1028   1  \n",
       "2  0.143  0.0  0.276  0.184  0.010  9.821  485  2259   1  \n",
       "3  0.137  0.0  0.137  0.000  0.000  3.537   40   191   1  \n",
       "4  0.135  0.0  0.135  0.000  0.000  3.537   40   191   1  \n",
       "\n",
       "[5 rows x 58 columns]"
      ]
     },
     "execution_count": 3,
     "metadata": {},
     "output_type": "execute_result"
    }
   ],
   "source": [
    "# Import data\n",
    "# https://archive.ics.uci.edu/ml/datasets/spambase\n",
    "\n",
    "df = pd.read_csv(\"spambase.data\", header = None)\n",
    "X = df.iloc[:,:-1]\n",
    "y = df.iloc[:,-1]\n",
    "df.head()"
   ]
  },
  {
   "cell_type": "code",
   "execution_count": 4,
   "id": "68f57ee6",
   "metadata": {},
   "outputs": [
    {
     "name": "stdout",
     "output_type": "stream",
     "text": [
      "Train data's shape: (3680, 57)\n",
      "Valid data's shape: (921, 57)\n"
     ]
    }
   ],
   "source": [
    "# Initial train/test split and scaling before feature selection\n",
    "\n",
    "X_train_scaled, X_test_scaled, y_train, y_test = split_and_scale(X,y)"
   ]
  },
  {
   "cell_type": "code",
   "execution_count": null,
   "id": "7bd62941",
   "metadata": {},
   "outputs": [],
   "source": []
  },
  {
   "cell_type": "markdown",
   "id": "762e0778",
   "metadata": {},
   "source": [
    "## Feature selection using decision tree <a name=\"Feature-selection\"></a>"
   ]
  },
  {
   "cell_type": "code",
   "execution_count": 5,
   "id": "5af5b561",
   "metadata": {},
   "outputs": [
    {
     "data": {
      "text/plain": [
       "<AxesSubplot:>"
      ]
     },
     "execution_count": 5,
     "metadata": {},
     "output_type": "execute_result"
    },
    {
     "data": {
      "image/png": "[encoded data removed]",
      "text/plain": [
       "<Figure size 432x288 with 1 Axes>"
      ]
     },
     "metadata": {
      "needs_background": "light"
     },
     "output_type": "display_data"
    }
   ],
   "source": [
    "# Find the best hyperparameter by using feature_importances in Decision Tree\n",
    "\n",
    "param = {'criterion': [\"entropy\"],\n",
    "        'max_depth': np.arange(3,6,1),\n",
    "        'min_samples_split': np.arange(7,10,1),\n",
    "        'min_samples_leaf': np.arange(8,11,1),\n",
    "        'max_leaf_nodes': np.arange(4,8,1),\n",
    "        'random_state':[77]}\n",
    "\n",
    "clf = model_selection.GridSearchCV(estimator=DecisionTreeClassifier(), \n",
    "                                   param_grid=param, refit= True, scoring = 'accuracy', cv=4)\n",
    "clf.fit(X_train_scaled, y_train)\n",
    "\n",
    "dt_clf = DecisionTreeClassifier().set_params(**clf.best_params_)\n",
    "dt_clf.fit(X_train_scaled, y_train)\n",
    "\n",
    "# Draw bar chart for top 10 features\n",
    "feature_importances = pd.Series(dt_clf.feature_importances_, index=X.columns)\n",
    "feature_importances.nlargest(10).plot(kind='barh')"
   ]
  },
  {
   "cell_type": "code",
   "execution_count": 6,
   "id": "219340b3",
   "metadata": {},
   "outputs": [
    {
     "data": {
      "text/html": [
       "<div>\n",
       "<style scoped>\n",
       "    .dataframe tbody tr th:only-of-type {\n",
       "        vertical-align: middle;\n",
       "    }\n",
       "\n",
       "    .dataframe tbody tr th {\n",
       "        vertical-align: top;\n",
       "    }\n",
       "\n",
       "    .dataframe thead th {\n",
       "        text-align: right;\n",
       "    }\n",
       "</style>\n",
       "<table border=\"1\" class=\"dataframe\">\n",
       "  <thead>\n",
       "    <tr style=\"text-align: right;\">\n",
       "      <th></th>\n",
       "      <th>54</th>\n",
       "      <th>24</th>\n",
       "      <th>51</th>\n",
       "      <th>6</th>\n",
       "      <th>52</th>\n",
       "    </tr>\n",
       "  </thead>\n",
       "  <tbody>\n",
       "    <tr>\n",
       "      <th>0</th>\n",
       "      <td>3.756</td>\n",
       "      <td>0.0</td>\n",
       "      <td>0.778</td>\n",
       "      <td>0.00</td>\n",
       "      <td>0.000</td>\n",
       "    </tr>\n",
       "    <tr>\n",
       "      <th>1</th>\n",
       "      <td>5.114</td>\n",
       "      <td>0.0</td>\n",
       "      <td>0.372</td>\n",
       "      <td>0.21</td>\n",
       "      <td>0.180</td>\n",
       "    </tr>\n",
       "    <tr>\n",
       "      <th>2</th>\n",
       "      <td>9.821</td>\n",
       "      <td>0.0</td>\n",
       "      <td>0.276</td>\n",
       "      <td>0.19</td>\n",
       "      <td>0.184</td>\n",
       "    </tr>\n",
       "    <tr>\n",
       "      <th>3</th>\n",
       "      <td>3.537</td>\n",
       "      <td>0.0</td>\n",
       "      <td>0.137</td>\n",
       "      <td>0.31</td>\n",
       "      <td>0.000</td>\n",
       "    </tr>\n",
       "    <tr>\n",
       "      <th>4</th>\n",
       "      <td>3.537</td>\n",
       "      <td>0.0</td>\n",
       "      <td>0.135</td>\n",
       "      <td>0.31</td>\n",
       "      <td>0.000</td>\n",
       "    </tr>\n",
       "  </tbody>\n",
       "</table>\n",
       "</div>"
      ],
      "text/plain": [
       "      54   24     51    6      52\n",
       "0  3.756  0.0  0.778  0.00  0.000\n",
       "1  5.114  0.0  0.372  0.21  0.180\n",
       "2  9.821  0.0  0.276  0.19  0.184\n",
       "3  3.537  0.0  0.137  0.31  0.000\n",
       "4  3.537  0.0  0.135  0.31  0.000"
      ]
     },
     "execution_count": 6,
     "metadata": {},
     "output_type": "execute_result"
    }
   ],
   "source": [
    "# Filter the top 5 features\n",
    "df_selected = df.iloc[:,[54,24,51,6,52,-1]]\n",
    "X_selected = df_selected.iloc[:,:-1]\n",
    "y_selected = df_selected.iloc[:,-1]\n",
    "X_selected.head()"
   ]
  },
  {
   "cell_type": "code",
   "execution_count": null,
   "id": "f09f02ca",
   "metadata": {},
   "outputs": [],
   "source": []
  },
  {
   "cell_type": "markdown",
   "id": "af83ed83",
   "metadata": {},
   "source": [
    "## Define model and set of hyperparameter <a name=\"Define-model\"></a>"
   ]
  },
  {
   "cell_type": "code",
   "execution_count": 7,
   "id": "8544dfde",
   "metadata": {},
   "outputs": [],
   "source": [
    "# Define each model and the combination of hyper parameter for GridSearch\n",
    "\n",
    "models = []\n",
    "models.append(('LOG', \n",
    "               LogisticRegression(),\n",
    "               {'LOG__solver': [\"liblinear\"],\n",
    "                'LOG__penalty': ['l1','l2'],\n",
    "                'LOG__C': [0.01, 0.1, 1, 10, 100],\n",
    "                'LOG__random_state': [77],\n",
    "                'LOG__max_iter': [500]\n",
    "               }\n",
    "              ))\n",
    "\n",
    "models.append(('KNN', \n",
    "               KNeighborsClassifier(),\n",
    "               {'KNN__n_neighbors': np.arange(3,15,1),\n",
    "                'KNN__weights': ['uniform', 'distance']}\n",
    "              ))\n",
    "\n",
    "models.append(('DT', \n",
    "               DecisionTreeClassifier(), \n",
    "               {'DT__criterion': [\"entropy\"],\n",
    "                'DT__max_depth': np.arange(4,8,1),\n",
    "                'DT__min_samples_split': np.arange(7,10,1),\n",
    "                'DT__random_state':[77]}\n",
    "              ))\n",
    "\n",
    "models.append(('SVC', \n",
    "               SVC(),\n",
    "               {\"SVC__C\": [1,10, 100],\n",
    "                \"SVC__gamma\": [1, 10],\n",
    "                \"SVC__kernel\": ['rbf','linear'],\n",
    "                \"SVC__probability\": [True],\n",
    "                'SVC__random_state':[77]}\n",
    "              ))\n",
    "models.append(('LGBM', \n",
    "               LGBMClassifier(),\n",
    "               {\"LGBM__n_estimators\": [300, 500, 1000],\n",
    "                \"LGBM__num_leaves\": np.arange(5,9,1),\n",
    "                \"LGBM__learning_rate\": [0.05, 0.1, 0.5],\n",
    "                \"LGBM__reg_lambda\": [1,10, 50]}\n",
    "              ))\n",
    "\n",
    "# models.append(('NN', \n",
    "#                KerasClassifier(build_fn=create_model, verbose=0),\n",
    "#                {\"NN__batch_size\": [20, 60, 80, 100],\n",
    "#                 \"NN__epochs\": [10, 50, 100]}\n",
    "#               ))\n",
    "\n",
    "# https://machinelearningmastery.com/grid-search-hyperparameters-deep-learning-models-python-keras/"
   ]
  },
  {
   "cell_type": "code",
   "execution_count": null,
   "id": "4ad32856",
   "metadata": {},
   "outputs": [],
   "source": []
  },
  {
   "cell_type": "markdown",
   "id": "f9a36634",
   "metadata": {},
   "source": [
    "## Run nested CV with normalization <a name=\"nested-CV\"></a>"
   ]
  },
  {
   "cell_type": "code",
   "execution_count": 8,
   "id": "fca8141c",
   "metadata": {},
   "outputs": [
    {
     "name": "stdout",
     "output_type": "stream",
     "text": [
      "==================================================\n"
     ]
    },
    {
     "name": "stderr",
     "output_type": "stream",
     "text": [
      "100%|████████████████████████████████████████████████████████████████████████████████████| 2/2 [00:00<00:00,  2.97it/s]\n"
     ]
    },
    {
     "name": "stdout",
     "output_type": "stream",
     "text": [
      "Average score of LOG: 0.922.\n"
     ]
    },
    {
     "name": "stderr",
     "output_type": "stream",
     "text": [
      "100%|████████████████████████████████████████████████████████████████████████████████████| 2/2 [00:02<00:00,  1.40s/it]\n"
     ]
    },
    {
     "name": "stdout",
     "output_type": "stream",
     "text": [
      "Average score of KNN: 0.9.\n"
     ]
    },
    {
     "name": "stderr",
     "output_type": "stream",
     "text": [
      "100%|████████████████████████████████████████████████████████████████████████████████████| 2/2 [00:00<00:00,  2.90it/s]\n"
     ]
    },
    {
     "name": "stdout",
     "output_type": "stream",
     "text": [
      "Average score of DT: 0.886.\n"
     ]
    },
    {
     "name": "stderr",
     "output_type": "stream",
     "text": [
      "100%|████████████████████████████████████████████████████████████████████████████████████| 2/2 [00:24<00:00, 12.24s/it]\n"
     ]
    },
    {
     "name": "stdout",
     "output_type": "stream",
     "text": [
      "Average score of SVC: 0.903.\n"
     ]
    },
    {
     "name": "stderr",
     "output_type": "stream",
     "text": [
      "100%|████████████████████████████████████████████████████████████████████████████████████| 2/2 [00:14<00:00,  7.17s/it]"
     ]
    },
    {
     "name": "stdout",
     "output_type": "stream",
     "text": [
      "Average score of LGBM: 0.903.\n",
      "==================================================\n"
     ]
    },
    {
     "name": "stderr",
     "output_type": "stream",
     "text": [
      "\n"
     ]
    }
   ],
   "source": [
    "# Conduct nested CV from defind model and filtered data\n",
    "\n",
    "result_nestedcv = nested_cv(models, scoring = 'precision', X = X_selected, y = y_selected,\n",
    "                            num_trials = 2, inner_splits = 2, outer_splits = 2, random_state = 77)"
   ]
  },
  {
   "cell_type": "code",
   "execution_count": null,
   "id": "481e8ec5",
   "metadata": {},
   "outputs": [],
   "source": []
  },
  {
   "cell_type": "markdown",
   "id": "deb1d7f7",
   "metadata": {},
   "source": [
    "\n",
    "## Draw ROC curve <a name=\"ROC\"></a>"
   ]
  },
  {
   "cell_type": "code",
   "execution_count": 9,
   "id": "1cc09ae5",
   "metadata": {},
   "outputs": [
    {
     "name": "stdout",
     "output_type": "stream",
     "text": [
      "Train data's shape: (3680, 5)\n",
      "Valid data's shape: (921, 5)\n",
      "AUC score of LOG is 0.786\n",
      "AUC score of KNN is 0.888\n",
      "AUC score of DT is 0.893\n",
      "AUC score of SVC is 0.841\n",
      "AUC score of LGBM is 0.895\n"
     ]
    },
    {
     "data": {
      "image/png": "[encoded data removed]",
      "text/plain": [
       "<Figure size 720x360 with 1 Axes>"
      ]
     },
     "metadata": {
      "needs_background": "light"
     },
     "output_type": "display_data"
    }
   ],
   "source": [
    "result_auc = roc_auc(models, 'precision', X_selected, y_selected)\n",
    "\n",
    "plt.legend()\n",
    "plt.xlabel(\"FPR\")\n",
    "plt.ylabel(\"TPR\")\n",
    "plt.title('ROC Curve of precision per model')\n",
    "plt.show()\n"
   ]
  },
  {
   "cell_type": "code",
   "execution_count": 10,
   "id": "37d9d3aa",
   "metadata": {},
   "outputs": [
    {
     "data": {
      "text/html": [
       "<div>\n",
       "<style scoped>\n",
       "    .dataframe tbody tr th:only-of-type {\n",
       "        vertical-align: middle;\n",
       "    }\n",
       "\n",
       "    .dataframe tbody tr th {\n",
       "        vertical-align: top;\n",
       "    }\n",
       "\n",
       "    .dataframe thead th {\n",
       "        text-align: right;\n",
       "    }\n",
       "</style>\n",
       "<table border=\"1\" class=\"dataframe\">\n",
       "  <thead>\n",
       "    <tr style=\"text-align: right;\">\n",
       "      <th></th>\n",
       "      <th>NestedCV</th>\n",
       "      <th>AUC</th>\n",
       "      <th>Mean</th>\n",
       "      <th>Rank</th>\n",
       "    </tr>\n",
       "  </thead>\n",
       "  <tbody>\n",
       "    <tr>\n",
       "      <th>LGBM</th>\n",
       "      <td>0.903184</td>\n",
       "      <td>0.895086</td>\n",
       "      <td>0.899135</td>\n",
       "      <td>1</td>\n",
       "    </tr>\n",
       "    <tr>\n",
       "      <th>KNN</th>\n",
       "      <td>0.899606</td>\n",
       "      <td>0.887668</td>\n",
       "      <td>0.893637</td>\n",
       "      <td>2</td>\n",
       "    </tr>\n",
       "    <tr>\n",
       "      <th>DT</th>\n",
       "      <td>0.885594</td>\n",
       "      <td>0.892558</td>\n",
       "      <td>0.889076</td>\n",
       "      <td>3</td>\n",
       "    </tr>\n",
       "    <tr>\n",
       "      <th>SVC</th>\n",
       "      <td>0.903153</td>\n",
       "      <td>0.840568</td>\n",
       "      <td>0.871861</td>\n",
       "      <td>4</td>\n",
       "    </tr>\n",
       "    <tr>\n",
       "      <th>LOG</th>\n",
       "      <td>0.921918</td>\n",
       "      <td>0.786452</td>\n",
       "      <td>0.854185</td>\n",
       "      <td>5</td>\n",
       "    </tr>\n",
       "  </tbody>\n",
       "</table>\n",
       "</div>"
      ],
      "text/plain": [
       "      NestedCV       AUC      Mean  Rank\n",
       "LGBM  0.903184  0.895086  0.899135     1\n",
       "KNN   0.899606  0.887668  0.893637     2\n",
       "DT    0.885594  0.892558  0.889076     3\n",
       "SVC   0.903153  0.840568  0.871861     4\n",
       "LOG   0.921918  0.786452  0.854185     5"
      ]
     },
     "execution_count": 10,
     "metadata": {},
     "output_type": "execute_result"
    }
   ],
   "source": [
    "final_result = pd.concat([result_nestedcv,result_auc], axis=1)\n",
    "final_result['Mean'] = final_result.mean(axis =1)\n",
    "final_result['Rank'] = final_result['Mean'].rank(method ='average', ascending=False).astype('int')\n",
    "final_result.sort_values('Rank')"
   ]
  },
  {
   "cell_type": "code",
   "execution_count": null,
   "id": "c382da7a",
   "metadata": {},
   "outputs": [],
   "source": []
  },
  {
   "cell_type": "markdown",
   "id": "1d2a1512",
   "metadata": {},
   "source": [
    "## Select final model and optimize hyperparameter <a name=\"final-model\"></a>"
   ]
  },
  {
   "cell_type": "code",
   "execution_count": 11,
   "id": "4d9e71bd",
   "metadata": {},
   "outputs": [
    {
     "name": "stdout",
     "output_type": "stream",
     "text": [
      "Train data's shape: (3680, 5)\n",
      "Valid data's shape: (921, 5)\n",
      "Fitting 10 folds for each of 10 candidates, totalling 100 fits\n",
      "==================================================\n",
      "Final model's Precision is 0.916\n",
      "Final model's best parameter is {'LGBM__reg_lambda': 50, 'LGBM__num_leaves': 13, 'LGBM__n_estimators': 500, 'LGBM__max_depth': 8, 'LGBM__learning_rate': 0.2}\n",
      "==================================================\n"
     ]
    }
   ],
   "source": [
    "# LGBM shows the best performance among all models\n",
    "# Use randomized CV to optimize the best hyperparameter\n",
    "\n",
    "X_selected_train_scaled, X_selected_test_scaled, y_selected_train, y_selected_test = split_and_scale(X_selected,y_selected)\n",
    "\n",
    "param = {\"LGBM__n_estimators\": np.arange(100,1000,200),\n",
    "        \"LGBM__num_leaves\": np.arange(100,2000,400),\n",
    "        \"LGBM__max_depth\": np.arange(3,12,1),\n",
    "        \"LGBM__num_leaves\": np.arange(5,15,1),\n",
    "        \"LGBM__num_leaves\": np.arange(5,15,1),\n",
    "        \"LGBM__learning_rate\": [0.05, 0.1, 0.2, 0.3, 0.4, 0.5],\n",
    "        \"LGBM__reg_lambda\": [1,10, 50]}\n",
    "\n",
    "clf = model_selection.RandomizedSearchCV(estimator=Pipeline([('LGBM', LGBMClassifier())]), \n",
    "                                   param_distributions=param, refit= True, scoring = 'precision', cv=10, verbose=1)\n",
    "clf.fit(X_selected_train_scaled, y_selected_train)\n",
    "y_pred = clf.predict(X_selected_test_scaled) \n",
    "\n",
    "\n",
    "print(\"=\"*50)\n",
    "print('Final model\\'s Precision is {}'.format(round(clf.best_score_,3)))\n",
    "print('Final model\\'s best parameter is {}'.format(clf.best_params_))\n",
    "print(\"=\"*50)"
   ]
  },
  {
   "cell_type": "markdown",
   "id": "a177f3c0",
   "metadata": {},
   "source": [
    "## Conclusion/Limitation <a name=\"Conclusion\"></a>"
   ]
  },
  {
   "cell_type": "markdown",
   "id": "89f2c11c",
   "metadata": {},
   "source": [
    "\n",
    "### Conclusiion\n",
    "\n",
    "- Nested CV and AUC showed different score\n",
    "- LGBM was selected to be the best model after taking mean of Nested CV and AUC\n",
    "- With optimized hyperparameter, LGBM has precision 0.916\n",
    "\n",
    "\n",
    "### Limitation\n",
    "\n",
    "- Taking mean of 2 scores has no technical reason and it is unsure which method is better between nested CV and AUC.\n",
    "- In the interest of time, inner cv and outer cv iteration was set to 2. The result might be different with higher iteration\n",
    "- Best hyperparameter could be different with GridSearchCV"
   ]
  },
  {
   "cell_type": "code",
   "execution_count": null,
   "id": "b1936090",
   "metadata": {},
   "outputs": [],
   "source": []
  }
 ],
 "metadata": {
  "kernelspec": {
   "display_name": "Python 3 (ipykernel)",
   "language": "python",
   "name": "python3"
  },
  "language_info": {
   "codemirror_mode": {
    "name": "ipython",
    "version": 3
   },
   "file_extension": ".py",
   "mimetype": "text/x-python",
   "name": "python",
   "nbconvert_exporter": "python",
   "pygments_lexer": "ipython3",
   "version": "3.8.13"
  },
  "toc": {
   "base_numbering": 1,
   "nav_menu": {},
   "number_sections": true,
   "sideBar": true,
   "skip_h1_title": false,
   "title_cell": "Table of Contents",
   "title_sidebar": "Contents",
   "toc_cell": false,
   "toc_position": {},
   "toc_section_display": true,
   "toc_window_display": false
  },
  "varInspector": {
   "cols": {
    "lenName": 16,
    "lenType": 16,
    "lenVar": 40
   },
   "kernels_config": {
    "python": {
     "delete_cmd_postfix": "",
     "delete_cmd_prefix": "del ",
     "library": "var_list.py",
     "varRefreshCmd": "print(var_dic_list())"
    },
    "r": {
     "delete_cmd_postfix": ") ",
     "delete_cmd_prefix": "rm(",
     "library": "var_list.r",
     "varRefreshCmd": "cat(var_dic_list()) "
    }
   },
   "types_to_exclude": [
    "module",
    "function",
    "builtin_function_or_method",
    "instance",
    "_Feature"
   ],
   "window_display": false
  }
 },
 "nbformat": 4,
 "nbformat_minor": 5
}
